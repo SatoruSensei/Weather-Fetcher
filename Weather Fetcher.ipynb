{
 "cells": [
  {
   "cell_type": "code",
   "execution_count": 1,
   "id": "a7c42bb2",
   "metadata": {},
   "outputs": [
    {
     "name": "stdout",
     "output_type": "stream",
     "text": [
      "Requirement already satisfied: requests in c:\\users\\hp\\anaconda3\\lib\\site-packages (2.27.1)\n",
      "Requirement already satisfied: urllib3<1.27,>=1.21.1 in c:\\users\\hp\\anaconda3\\lib\\site-packages (from requests) (1.26.9)\n",
      "Requirement already satisfied: certifi>=2017.4.17 in c:\\users\\hp\\anaconda3\\lib\\site-packages (from requests) (2021.10.8)\n",
      "Requirement already satisfied: charset-normalizer~=2.0.0 in c:\\users\\hp\\anaconda3\\lib\\site-packages (from requests) (2.0.4)\n",
      "Requirement already satisfied: idna<4,>=2.5 in c:\\users\\hp\\anaconda3\\lib\\site-packages (from requests) (3.3)\n",
      "Note: you may need to restart the kernel to use updated packages.\n"
     ]
    }
   ],
   "source": [
    "pip install requests"
   ]
  },
  {
   "cell_type": "code",
   "execution_count": 14,
   "id": "38fcfa37",
   "metadata": {},
   "outputs": [
    {
     "name": "stdout",
     "output_type": "stream",
     "text": [
      "Enter a city name: delhi\n",
      "Weather:  haze\n",
      "Temperature:  40.06 Celsius\n",
      "Min Temp:  40.05 Celsius\n",
      "Max Temp:  40.06 Celsius\n",
      "Pressure:  1002 Milibar\n",
      "Humidity:  11 g.m-3\n"
     ]
    },
    {
     "data": {
      "image/png": "[encoded data removed]",
      "text/plain": [
       "<Figure size 432x288 with 1 Axes>"
      ]
     },
     "metadata": {
      "needs_background": "light"
     },
     "output_type": "display_data"
    }
   ],
   "source": [
    "import requests\n",
    "import decimal\n",
    "import matplotlib.pyplot as plt\n",
    "\n",
    "\n",
    "API_KEY =\"aa21bd74b14074bc2f9df192ba5eeab2\"\n",
    "Base_URL = \"https://api.openweathermap.org/data/2.5/weather\"\n",
    "\n",
    "city = input(\"Enter a city name: \")\n",
    "request_url = f\"{Base_URL}?appid={API_KEY}&q={city}\"\n",
    "response = requests.get(request_url)\n",
    "\n",
    "if response.status_code == 200:\n",
    "    data = response.json()\n",
    "    weather = data['weather'][0]['description']\n",
    "    print(\"Weather: \", weather)\n",
    "    temperature = data[\"main\"][\"temp\"] - 273.15\n",
    "    print(\"Temperature: \", round((temperature),2) ,\"Celsius\" )\n",
    "    temp_min = data[\"main\"][\"temp_min\"]- 273.15\n",
    "    print(\"Min Temp: \", round((temp_min),2),\"Celsius\")\n",
    "    temp_max = data[\"main\"][\"temp_max\"]- 273.15\n",
    "    print(\"Max Temp: \", round((temp_max),2),\"Celsius\")\n",
    "    pressure = data[\"main\"][\"pressure\"]\n",
    "    print(\"Pressure: \", pressure,\"Milibar\")\n",
    "    humidity = data[\"main\"][\"humidity\"]\n",
    "    print(\"Humidity: \", humidity, \"g.m-3\")\n",
    "else:\n",
    "    print(\"An error occured.\")\n",
    "    \n",
    "x=temperature\n",
    "y=humidity\n",
    "\n",
    "plt.hist(x,y)\n",
    "plt.xlabel(\"Temperature\")\n",
    "plt.ylabel(\"Humidity\")\n",
    "plt.show()\n"
   ]
  },
  {
   "cell_type": "code",
   "execution_count": null,
   "id": "80189e41",
   "metadata": {},
   "outputs": [],
   "source": []
  }
 ],
 "metadata": {
  "kernelspec": {
   "display_name": "Python 3 (ipykernel)",
   "language": "python",
   "name": "python3"
  },
  "language_info": {
   "codemirror_mode": {
    "name": "ipython",
    "version": 3
   },
   "file_extension": ".py",
   "mimetype": "text/x-python",
   "name": "python",
   "nbconvert_exporter": "python",
   "pygments_lexer": "ipython3",
   "version": "3.9.12"
  }
 },
 "nbformat": 4,
 "nbformat_minor": 5
}
